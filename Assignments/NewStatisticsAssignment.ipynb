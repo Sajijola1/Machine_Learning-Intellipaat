{
 "cells": [
  {
   "cell_type": "code",
   "execution_count": 9,
   "metadata": {},
   "outputs": [],
   "source": [
    "import numpy as np\n",
    "import pandas as pd\n",
    "import matplotlib.pyplot as plt\n",
    "import scipy.stats as st"
   ]
  },
  {
   "cell_type": "markdown",
   "metadata": {},
   "source": [
    "Q1. Given a sample, find the standard deviation and variance of the same.\n",
    "\n",
    "Sample = [42 61 39 70 8 30 52 28 95 86 35 77 80 86 1 84 90 57 45 6 1 56 60 83 24 63 93 59 92 53]\n",
    "\n",
    "a. 28.44, 800.49\n",
    "\n",
    "b. 24.89, 811.59\n",
    "\n",
    "c. 28.94, 819.15\n",
    "\n",
    "#### d. 28.49, 811.95\n",
    "\n",
    "Ans: D"
   ]
  },
  {
   "cell_type": "code",
   "execution_count": 2,
   "metadata": {},
   "outputs": [
    {
     "name": "stdout",
     "output_type": "stream",
     "text": [
      "28.49491182649983 811.9599999999999\n"
     ]
    }
   ],
   "source": [
    "Sample = [42, 61, 39, 70, 8, 30, 52, 28, 95, 86, 35, 77, 80, 86, 1, 84, 90, 57, 45, 6, 1, 56, 60, 83, 24, 63, 93, 59, 92, 53]\n",
    "\n",
    "q1_std = np.std(Sample)\n",
    "q1_var = q1_std ** 2\n",
    "print(q1_std, q1_var)"
   ]
  },
  {
   "cell_type": "markdown",
   "metadata": {},
   "source": [
    "Q2. For a given unsorted array, find the range of the array, and the Interquartile range(IQR) of the\n",
    "array.\n",
    "\n",
    "array = numpy.array([17, 27, 80, 39, 72, 95, 52, 85, 8, 64, 36, 15, 62, 76, 66, 67, 59, 92])\n",
    "\n",
    "a. 87, 32.85\n",
    "\n",
    "b. 95, 26.25\n",
    "\n",
    "### c. 87, 38.25\n",
    "\n",
    "d. 95, 35.28\n",
    "\n",
    "Ans: C"
   ]
  },
  {
   "cell_type": "code",
   "execution_count": 3,
   "metadata": {},
   "outputs": [
    {
     "name": "stdout",
     "output_type": "stream",
     "text": [
      "87 38.25\n"
     ]
    }
   ],
   "source": [
    "q2_array = np.array([17, 27, 80, 39, 72, 95, 52, 85, 8, 64, 36, 15, 62, 76, 66, 67, 59, 92])\n",
    "q2_array = np.sort(q2_array)\n",
    "\n",
    "q2_range = np.max(q2_array) - np.min(q2_array)\n",
    "q2_Q3,q2_Q1 = np.percentile(q2_array,(75,25))\n",
    "#pd.Series(q2_array).describe()\n",
    "IQR = q2_Q3 - q2_Q1\n",
    "\n",
    "print(q2_range, IQR)"
   ]
  },
  {
   "cell_type": "markdown",
   "metadata": {},
   "source": [
    "Q3. In a skewed distribution, If the mean and median of a sample is 56, and 63 and the mode of the\n",
    "same is 65. The distribution graph of the sample will be ___?\n",
    "\n",
    "a. Positively Skewed\n",
    "\n",
    "### b. Negatively Skewed\n",
    "\n",
    "c. Unskewed\n",
    "\n",
    "d. None of the Above\n",
    "\n",
    "Ans: B"
   ]
  },
  {
   "cell_type": "markdown",
   "metadata": {},
   "source": [
    "Q4. If the IQR range of the sample is 4.5, and IQR 1 and IQR 3 values are 4, 8.25 respectively.\n",
    "Which of the following are suspected outliers in the sample?\n",
    "\n",
    "a. 12, 3\n",
    "\n",
    "b. 9 , 2\n",
    "\n",
    "### c. -4, 15\n",
    "\n",
    "d. -1, 13\n",
    "\n",
    "Ans: C"
   ]
  },
  {
   "cell_type": "markdown",
   "metadata": {},
   "source": [
    "Q5. In a normal distribution curve ___?\n",
    "\n",
    "a. The mean and median are less than the mode\n",
    "\n",
    "b. The mean and median are greater than the IQR range\n",
    "\n",
    "### c. The AUC value is 1\n",
    "\n",
    "d. The graph is asymmetrical with negatively skewed or positively skewed distribution\n",
    "\n",
    "Ans: C"
   ]
  },
  {
   "cell_type": "markdown",
   "metadata": {},
   "source": [
    "Q6. Calculate the 95% confidence interval of the given sample using the t-distribution.\n",
    "\n",
    "Sample = [78 65 20 69 36 81 85 71 44 71 47 37 89 25 73 55 80 52 46 77]\n",
    "\n",
    "### a. (50.400 , 69.699)\n",
    "\n",
    "b. (40.500 , 63.659)\n",
    "\n",
    "c. (45.450 , 67.599)\n",
    "\n",
    "d. (54.500 , 68.649)\n",
    "\n",
    "Ans: A"
   ]
  },
  {
   "cell_type": "code",
   "execution_count": 4,
   "metadata": {},
   "outputs": [
    {
     "data": {
      "text/plain": [
       "(50.400470937660145, 69.69952906233985)"
      ]
     },
     "execution_count": 4,
     "metadata": {},
     "output_type": "execute_result"
    }
   ],
   "source": [
    "# Sample data\n",
    "q6_Sample = [78, 65, 20, 69, 36, 81, 85, 71, 44, 71, 47, 37, 89, 25, 73, 55, 80, 52, 46, 77]\n",
    "\n",
    "# create 95% confidence interval for population mean\n",
    "st.t.interval(alpha=0.95, df=len(q6_Sample)-1, loc=np.mean(q6_Sample), scale=st.sem(q6_Sample)) \n"
   ]
  },
  {
   "cell_type": "markdown",
   "metadata": {},
   "source": [
    "Q7. If the mean value is 100 and standard deviation is 15 for a normally distributed sample.\n",
    "\n",
    "Calculate the p-value from the given sample after performing the one sample z-test on the following data.\n",
    "\n",
    "Sample = [88, 92, 84, 64, 96, 97, 67, 97, 96, 99,115, 119, 119, 129, 130, 142, 102, 123, 134, 105]\n",
    "\n",
    "a. 1.03\n",
    "\n",
    "### b. 0.30\n",
    "\n",
    "c. 1.30\n",
    "\n",
    "d. 0.32\n",
    "\n",
    "Ans: B"
   ]
  },
  {
   "cell_type": "code",
   "execution_count": 5,
   "metadata": {},
   "outputs": [
    {
     "data": {
      "text/plain": [
       "(1.0308547928995084, 0.3026089188995713)"
      ]
     },
     "execution_count": 5,
     "metadata": {},
     "output_type": "execute_result"
    }
   ],
   "source": [
    "# Perform the one-sample z-test\n",
    "\n",
    "from statsmodels.stats.weightstats import ztest as ztest\n",
    "\n",
    "# Define the data\n",
    "q7_Sample = [88, 92, 84, 64, 96, 97, 67, 97, 96, 99,115, 119, 119, 129, 130, 142, 102, 123, 134, 105]\n",
    "\n",
    "#perform one sample z-test\n",
    "ztest(q7_Sample, value=100)"
   ]
  },
  {
   "cell_type": "markdown",
   "metadata": {},
   "source": [
    "Q8. To calculate the p-value in a chi squared test, what among the following is not required?\n",
    "\n",
    "a. Degrees of freedom\n",
    "\n",
    "b. Alpha Level\n",
    "\n",
    "### c. IQR value\n",
    "\n",
    "d. None of the above\n",
    "\n",
    "Ans: C"
   ]
  },
  {
   "cell_type": "markdown",
   "metadata": {},
   "source": [
    "Q9. If the chi squared value is low, it means that ___?\n",
    "\n",
    "a. The correlation is high between the two sets of data.\n",
    "\n",
    "### b. The correlation is low between the two sets of data.\n",
    "\n",
    "c. Indicates a statistically significant difference\n",
    "\n",
    "d. None of the above\n",
    "\n",
    "Ans: B"
   ]
  },
  {
   "cell_type": "markdown",
   "metadata": {},
   "source": [
    "Q10. A card is drawn at random from a standard deck of cards. Recall that there are 13 hearts, 13 diamonds, 13 spades and 13 clubs in a standard deck of cards. \n",
    "\n",
    "• Let H be the event that a heart is drawn, \n",
    "\n",
    "• Let R be the event that a red card is drawn and \n",
    "\n",
    "• Let F be the event that a face card is drawn, where the face cards are the kings, queens and jacks.\n",
    "\n",
    "a. If I draw a card at random from the deck of 52, what is P(H)?\n",
    "\n",
    "b. If I draw a card at random from the deck of 52, what is P(F)?\n",
    "\n",
    "c. If I draw a card at random, and without showing you the card, I tell you that the card is red,\n",
    "then what are the chances that it is a face card?\n",
    "\n",
    "### a. 0.25, 0.23, 0.23\n",
    "\n",
    "b. 0.50, 0.23, 0.23\n",
    "\n",
    "c. 0.50 , 0.25, 0.25\n",
    "\n",
    "d. None of the above"
   ]
  },
  {
   "cell_type": "markdown",
   "metadata": {},
   "source": [
    "Q11. A box contains three coins: two regular coins and one fake two-headed coin (P(H)=1). \n",
    "\n",
    "a. You pick a coin at random and toss it. What is the probability that it lands\n",
    "heads up?\n",
    "\n",
    "b. You pick a coin at random and toss it, and get heads. What is the probability that it is the\n",
    "two-headed coin?\n",
    "\n",
    "\n",
    "### a. 4/6, 1/2\n",
    "\n",
    "b. 2/3, 1/5\n",
    "\n",
    "c. 2/5, 1/3\n",
    "\n",
    "d. None of the above\n",
    "\n",
    "Ans: A"
   ]
  },
  {
   "cell_type": "markdown",
   "metadata": {},
   "source": [
    "Q12. In my town, it's rainy one third of the days. \n",
    "Given that it is rainy, there will be heavy traffic with\n",
    "probability 12, and given that it is not rainy, there will be heavy traffic with probability 14. \n",
    "If it's rainy and there is heavy traffic, I arrive late for work with probability 12.\n",
    "On the other hand, the probability of being late is reduced to 18 if it is not rainy and there is no heavy traffic. \n",
    "In other situations (rainy and no traffic, not rainy and traffic) the probability of being late is 0.25. \n",
    "You pick a random day.\n",
    "\n",
    "\n",
    "a. What is the probability that it's not raining and there is heavy traffic and I am not late?\n",
    "\n",
    "b. What is the probability that I am late?\n",
    "\n",
    "c. Given that I arrived late at work, what is the probability that it rained that day?\n",
    "\n",
    "\n",
    "### a. 1/8 , 11/48, 6/11\n",
    "\n",
    "b. 1/4, 11/22, 6/12\n",
    "\n",
    "c. 1/2, 2/3, 4/12\n",
    "\n",
    "d. 3/4, 2/4, 1/5\n",
    "\n",
    "Ans: A"
   ]
  },
  {
   "cell_type": "markdown",
   "metadata": {},
   "source": [
    "Q13. A nationalized bank has found that the daily balance available in its savings accounts follows a normal distribution with a mean of Rs. 500 and a standard deviation of Rs. 50. \n",
    "\n",
    "The percentage of savings account holders, who maintain an average daily balance of more than Rs. 500 is _______ ?\n",
    "\n",
    "### a. 0.5\n",
    "\n",
    "b. 0.4\n",
    "\n",
    "c. 0.3\n",
    "\n",
    "d. 0.1\n",
    "\n",
    "Ans: A"
   ]
  },
  {
   "cell_type": "markdown",
   "metadata": {},
   "source": [
    "Q14. A day’s production of 850 manufactured parts contains 50 parts that do not meet customer requirements. \n",
    "\n",
    "Suppose two parts are selected from the batch, but the first part is replaced before the second part is selected. What is the probability that the second part is defective? (Denoted as B) given that the first part is defective (denoted as A)?\n",
    "\n",
    "a. 0.003\n",
    "\n",
    "b. 0.03\n",
    "\n",
    "c. 0.3\n",
    "\n",
    "### d. None of the above\n",
    "Ans. 1/17"
   ]
  },
  {
   "cell_type": "markdown",
   "metadata": {},
   "source": [
    "Q15. Which of the following statements is/are correct with respect to the below shaded part in the image:\n",
    "\n",
    "a. All data that is greater than 1.\n",
    "\n",
    "### b. All data that is either one or more standard deviations above the mean value. \n",
    "\n",
    "c. All data between 1 and 3.\n",
    "\n",
    "d. All data that is greater than mean\n",
    "\n",
    "Ans: B"
   ]
  },
  {
   "cell_type": "markdown",
   "metadata": {},
   "source": [
    "Q16. Which of the following options is/are area under the standard normal distribution curve?\n",
    "\n",
    "a. 0.1\n",
    "\n",
    "b. 25\n",
    "\n",
    "c. 0.5\n",
    "\n",
    "### d. 1\n",
    "\n",
    "Ans: D"
   ]
  },
  {
   "cell_type": "markdown",
   "metadata": {},
   "source": [
    "Q17. Which of the following statements is/are true with respect to the below image:\n",
    "\n",
    "a. The amount of charges is not having a linear relationship with the number of steps. \n",
    "\n",
    "b. The amount of charges is exponentially increasing with respect to the number of steps. \n",
    "\n",
    "### c. Both of the above.\n",
    "\n",
    "d. None of the above.\n",
    "\n",
    "Ans: C"
   ]
  },
  {
   "cell_type": "markdown",
   "metadata": {},
   "source": [
    "Q18. Which of the following statements is/are true with respect to the below image\n",
    "\n",
    "a. The amount of charges is having a linear relationship with number of steps.\n",
    "\n",
    "b. The amount of charges is increasing with respect to the number of steps.\n",
    "\n",
    "### c. Both of the above.\n",
    "\n",
    "d. None of the above.\n",
    "\n",
    "Ans: C"
   ]
  },
  {
   "cell_type": "markdown",
   "metadata": {},
   "source": [
    "Q19. Find t-statistic for the following samples given that the mean of the distribution is 8. \n",
    "\n",
    "Sample: [5 3 3 5 5 6 6 7 3 8]\n",
    "\n",
    "### (a) -5.3045\n",
    "\n",
    "(b) 0.0005\n",
    "\n",
    "(c) 3.1623\n",
    "\n",
    "(d) -0.0026"
   ]
  },
  {
   "cell_type": "code",
   "execution_count": 6,
   "metadata": {},
   "outputs": [
    {
     "data": {
      "text/plain": [
       "Ttest_1sampResult(statistic=-5.304483619392325, pvalue=0.0004909393164477487)"
      ]
     },
     "execution_count": 6,
     "metadata": {},
     "output_type": "execute_result"
    }
   ],
   "source": [
    "import scipy.stats as stats\n",
    "\n",
    "q19_sample = [5, 3, 3, 5, 5, 6, 6, 7, 3, 8]\n",
    "\n",
    "# Perform the one-sample t-test\n",
    "stats.ttest_1samp(q19_sample, 8)"
   ]
  },
  {
   "cell_type": "markdown",
   "metadata": {},
   "source": [
    "Q20. There are two machines for spray coating at desired thickness. Their variability should be similar\n",
    "if they need to be used for the same applications. \n",
    "\n",
    "To test this, various samples were collected from\n",
    "both machines and the sample covariance of machine 1 and 2 are 1.84 and 6.36 respectively.\n",
    "\n",
    "Comment on whether these machines can be used for the same application if the machines were truly\n",
    "built to have the same variance. Perform the test at 95% significance given n1 = 24 n2 = 25\n",
    "\n",
    "(a) Accept null hypothesis, variance of both the machines are same\n",
    "\n",
    "(b) Accept null hypothesis, variance of both the machines are different\n",
    "\n",
    "(c) Reject null hypothesis, variance of both the machines are same\n",
    "\n",
    "### (d) Reject null hypothesis, variance of both the machines are different"
   ]
  },
  {
   "cell_type": "code",
   "execution_count": 7,
   "metadata": {},
   "outputs": [
    {
     "name": "stdout",
     "output_type": "stream",
     "text": [
      "0.0020373108426033903\n"
     ]
    }
   ],
   "source": [
    "p_value = 1-st.f.cdf((6.36/1.84),24,23)\n",
    "print(p_value)\n",
    "# The p-value is less than .05; Reject the null hypothesis "
   ]
  },
  {
   "cell_type": "markdown",
   "metadata": {},
   "source": [
    "Q21. In the contact process for the production of sulphuric acid, temperature of not more than 450°C\n",
    "is desired. \n",
    "\n",
    "The reactor temperature was measured 24 times and it was found that the mean temperature was 450.3°C and the variance was 1.0. \n",
    "Find whether the reactor is operating at the\n",
    "desired condition? Perform the test at 95% significance.\n",
    "\n",
    "(a) Reject null hypothesis, reactor operating at the desired condition\n",
    "\n",
    "(b) Accept null hypothesis, reactor not operating at the desired condition\n",
    "\n",
    "### (c) Accept null hypothesis, reactor operating at the desired condition\n",
    "\n",
    "(d) Reject null hypothesis, reactor not operating at the desired condition"
   ]
  },
  {
   "cell_type": "code",
   "execution_count": 25,
   "metadata": {},
   "outputs": [
    {
     "name": "stdout",
     "output_type": "stream",
     "text": [
      "(449.8777370334957, 450.72226296650433)\n"
     ]
    },
    {
     "data": {
      "text/plain": [
       "'In other words, if the null hypothesized value falls within the confidence interval, \\nthen the p-value is always going to be larger than 5%. \\nConversely, if the null hypothesized value falls outside of our confidence interval \\nthen the p-value is going to be less than 5%.\\n'"
      ]
     },
     "execution_count": 25,
     "metadata": {},
     "output_type": "execute_result"
    }
   ],
   "source": [
    "# create 95% confidence interval for population mean\n",
    "print(st.t.interval(alpha=0.95, df=23, loc=450.3, scale=(1.0 ** 2)/(24**(1/2))) )\n",
    "\n",
    "# From https://towardsdatascience.com/the-relationship-between-hypothesis-testing-and-confidence-intervals-43196f1b44bf#:~:text=In%20other%20words%2C%20if%20the,to%20be%20less%20than%205%25.\n",
    "\n",
    "\"\"\"In other words, if the null hypothesized value falls within the confidence interval, \n",
    "then the p-value is always going to be larger than 5%. \n",
    "Conversely, if the null hypothesized value falls outside of our confidence interval \n",
    "then the p-value is going to be less than 5%.\n",
    "\"\"\"\n",
    "# the null hypothesized value(450) falls within the confidence interval"
   ]
  },
  {
   "cell_type": "markdown",
   "metadata": {},
   "source": [
    "Q22. Find f-statistic for the following sample sets generated from the distributions with variance 7 and\n",
    "11 respectively.\n",
    "Sample set 1: [-3 3 5 9 2 5 10 5 2 6], Sample set 2: [ 6 7 8 7 3 12 7 10 6 11].\n",
    "\n",
    "(a) 9.731\n",
    "\n",
    "### (b) 3.0497\n",
    "\n",
    "(c) 3.527\n",
    "\n",
    "(d) 0.7178"
   ]
  },
  {
   "cell_type": "code",
   "execution_count": 17,
   "metadata": {},
   "outputs": [
    {
     "data": {
      "text/plain": [
       "(1.9407176287051486, 0.16877998506161174)"
      ]
     },
     "execution_count": 17,
     "metadata": {},
     "output_type": "execute_result"
    }
   ],
   "source": [
    "Q22_sample1 = [-3, 3, 5, 9, 2, 5, 10, 5, 2, 6]\n",
    "Q22_sample2 = [6, 7, 8, 7, 3, 12, 7, 10, 6, 11]\n",
    "\n",
    "#define F-test function\n",
    "def f_test(x, y):\n",
    "    x = np.array(x)\n",
    "    y = np.array(y)\n",
    "    f = np.var(x, ddof=1)/np.var(y, ddof=1) #calculate F test statistic \n",
    "    dfn = x.size-1 #define degrees of freedom numerator \n",
    "    dfd = y.size-1 #define degrees of freedom denominator \n",
    "    p = 1-st.f.cdf(f, dfn, dfd) #find p-value of F test statistic \n",
    "    return f, p\n",
    "\n",
    "#perform F-test\n",
    "f_test(Q22_sample1, Q22_sample2)\n"
   ]
  },
  {
   "cell_type": "markdown",
   "metadata": {},
   "source": [
    "Q23. Two biased coins are tossed 126 times. 36 trials are both heads and 44 trials are both tails out of these 126 trials.\n",
    "\n",
    "Among the rest, 16 trials have head in the first coin while tail in the second coin and\n",
    "30 trials with tail in the first coin and head in the second coin. \n",
    "\n",
    "Find the probability that the coin 2 gives\n",
    "a tail given that the first coin gave a head.\n",
    "\n",
    "### (a) P(C2=T|C1=H) = 0.308\n",
    "\n",
    "(b) None of these\n",
    "\n",
    "(c) P(C2=T|C1=H) = 0.476\n",
    "\n",
    "(d) P(C2=T|C1=H) = 0.625\n",
    "\n",
    "Ans: A"
   ]
  },
  {
   "cell_type": "markdown",
   "metadata": {},
   "source": [
    "Q24. A short circuit tester is being used in a battery assembly line to test the batteries for short circuit.\n",
    "\n",
    "The battery will be rejected if the test is positive and the battery will be accepted if the test is negative.\n",
    "91.74% of the non-defective batteries were accepted and 3.19 % of the defective batteries also were\n",
    "accepted. In addition, 93.73 % of the batteries are non-defective and 2.27% of the batteries are\n",
    "defective. If a battery is rejected, what is the probability that the battery is non-defective? \n",
    "\n",
    "(a) 0.023\n",
    "\n",
    "(b) 0.917\n",
    "\n",
    "### (c) 0.555\n",
    "\n",
    "(d) 0.937\n",
    "\n",
    "Correct Answer: 0.555"
   ]
  },
  {
   "cell_type": "markdown",
   "metadata": {},
   "source": [
    "Q25. A total of 69 percent of Indians eat Dosai,24 percent of Indians eat Dhokla, and 11 percent\n",
    "eat Dosai and Dhokla. Then, what percentage of Indians eat neither Dosai nor Dhokla? \n",
    "\n",
    "(a) 0.17\n",
    "\n",
    "### (b) 0.18\n",
    "\n",
    "(c) 0.11\n",
    "\n",
    "(d) 0.82"
   ]
  },
  {
   "cell_type": "markdown",
   "metadata": {},
   "source": [
    "Q26. Two balls are randomly drawn one after the other without replacement from a bowl containing 12\n",
    "and 8 black balls. If the first ball drawn is white, what is the probability that second ball drawn is black?\n",
    "\n",
    "(a) 0.63\n",
    "\n",
    "(b) 0.4\n",
    "\n",
    "### (c) 0.42\n",
    "\n",
    "(d) 0.6"
   ]
  },
  {
   "cell_type": "markdown",
   "metadata": {},
   "source": [
    "Q27. Two biased coins are tossed 144 times. 50 trials are both heads and 39 trials are both tails out of\n",
    "these 144 trials. Among the rest, 25 trials have head in the first coin while tail in the second coin and\n",
    "30 trials with tail in the first coin and head in the second coin. Calculate the marginal probabilities for\n",
    "both the coins.\n",
    "\n",
    "### (a) C1H=0.521, C1T=0.479, C2H=0.556, C2T=0.444\n",
    "\n",
    "(b) None of these\n",
    "\n",
    "(c) C1H=0.521, C1T=0.556, C2H=0.479, C2T=0.444\n",
    "\n",
    "(d) C1H=0.556, C1T=0.479, C2H=0.521, C2T=0.444"
   ]
  },
  {
   "cell_type": "markdown",
   "metadata": {},
   "source": [
    "Q28. The outcomes of an experiment are {e, f, g, h} with probabilities 0.39, 0.24, 0.77, and 0.88,\n",
    "respectively. Let E and F denote the events {e, f} and {f, h}, respectively. Compute (a) P(E∩F) and (b)\n",
    "P(E ∪ F)\n",
    "\n",
    "### (a) 0.24,1.51\n",
    "\n",
    "(b) 1.51,0.24\n",
    "\n",
    "(c) 1.12,1.51\n",
    "\n",
    "(d) 0.24,0.63"
   ]
  }
 ],
 "metadata": {
  "kernelspec": {
   "display_name": "Python 3.8.10 64-bit",
   "language": "python",
   "name": "python3"
  },
  "language_info": {
   "codemirror_mode": {
    "name": "ipython",
    "version": 3
   },
   "file_extension": ".py",
   "mimetype": "text/x-python",
   "name": "python",
   "nbconvert_exporter": "python",
   "pygments_lexer": "ipython3",
   "version": "3.8.10"
  },
  "orig_nbformat": 4,
  "vscode": {
   "interpreter": {
    "hash": "31f2aee4e71d21fbe5cf8b01ff0e069b9275f58929596ceb00d14d90e3e16cd6"
   }
  }
 },
 "nbformat": 4,
 "nbformat_minor": 2
}
